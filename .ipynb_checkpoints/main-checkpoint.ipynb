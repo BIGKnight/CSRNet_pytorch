{
 "cells": [
  {
   "cell_type": "code",
   "execution_count": 2,
   "metadata": {},
   "outputs": [],
   "source": [
    "import torch\n",
    "import torch.nn as nn\n",
    "import matplotlib.pyplot as plt\n",
    "import sys\n",
    "import numpy as np\n",
    "import random\n",
    "from utils import *\n",
    "from model import CSRNet\n",
    "import torchvision.transforms as transforms\n",
    "from DatasetConstructor import DatasetConstructor\n",
    "import metrics\n",
    "from PIL import Image\n",
    "MAE = 10240000\n",
    "MSE = 10240000\n",
    "import time\n",
    "%matplotlib inline"
   ]
  },
  {
   "cell_type": "code",
   "execution_count": 3,
   "metadata": {
    "scrolled": true
   },
   "outputs": [],
   "source": [
    "# data_load\n",
    "img_dir = \"/home/zzn/part_B_final/train_data/images\"\n",
    "gt_dir = \"/home/zzn/part_B_final/train_data/gt_map\"\n",
    "transform_a = transforms.Compose([\n",
    "                transforms.ToTensor(),\n",
    "                transforms.Normalize((0.485, 0.456, 0.406), (0.229, 0.224, 0.225))\n",
    "            ])\n",
    "gt_transform_a =  transforms.ToTensor()\n",
    "\n",
    "crop_height = 384\n",
    "crop_weight = 512\n",
    "\n",
    "default_transform = transforms.Compose([\n",
    "        transforms.ColorJitter(brightness=0.2, contrast=0.2, saturation=0.2, hue=0.2),\n",
    "        transforms.TenCrop((crop_height, crop_weight), vertical_flip=False),\n",
    "        transforms.Lambda(\n",
    "            lambda crops: [\n",
    "                transforms.ToTensor()(crop) for crop in crops\n",
    "            ]\n",
    "        ),\n",
    "        transforms.Lambda(\n",
    "            lambda crops: [\n",
    "                transforms.Normalize((0.485, 0.456, 0.406), (0.229, 0.224, 0.225))(crop) for crop in crops\n",
    "            ]\n",
    "        ),\n",
    "        transforms.Lambda(lambda crops: torch.stack(crops))\n",
    "    ])\n",
    "\n",
    "gt_transform = transforms.Compose([\n",
    "        transforms.TenCrop((crop_height, crop_weight), vertical_flip=False),\n",
    "        transforms.Lambda(\n",
    "            lambda crops: [\n",
    "                transforms.ToTensor()(crop) for crop in crops\n",
    "            ]\n",
    "        ),\n",
    "        transforms.Lambda(lambda crops: torch.stack(crops))\n",
    "    ])\n",
    "\n",
    "dataset = DatasetConstructor(img_dir, gt_dir, 400, 20, default_transform, gt_transform)\n",
    "train_loader = torch.utils.data.DataLoader(dataset=dataset, batch_size=1)\n",
    "eval_loader = torch.utils.data.DataLoader(dataset=dataset, batch_size=1)"
   ]
  },
  {
   "cell_type": "code",
   "execution_count": null,
   "metadata": {},
   "outputs": [],
   "source": [
    "# obtain the gpu device\n",
    "assert torch.cuda.is_available()\n",
    "cuda_device = torch.device(\"cuda\")\n",
    "args = DefaultConfig()\n",
    "\n",
    "# model construct\n",
    "net = DMENet().to(cuda_device)\n",
    "gt_map_process_model = GroundTruthProcess(1, 1, 8).to(cuda_device) # to keep the same resolution with the prediction\n",
    "\n",
    "# set optimizer and estimator\n",
    "criterion = metrics.DMELoss().to(cuda_device)\n",
    "optimizer = torch.optim.Adam(net.parameters(), lr=args.lr, weight_decay=args.weight_decay)\n",
    "ae_batch = metrics.AEBatch().to(cuda_device)\n",
    "se_batch = metrics.SEBatch().to(cuda_device)"
   ]
  }
 ],
 "metadata": {
  "kernelspec": {
   "display_name": "pytorch_env",
   "language": "python",
   "name": "pytorch_env"
  },
  "language_info": {
   "codemirror_mode": {
    "name": "ipython",
    "version": 3
   },
   "file_extension": ".py",
   "mimetype": "text/x-python",
   "name": "python",
   "nbconvert_exporter": "python",
   "pygments_lexer": "ipython3",
   "version": "3.6.8"
  }
 },
 "nbformat": 4,
 "nbformat_minor": 2
}
